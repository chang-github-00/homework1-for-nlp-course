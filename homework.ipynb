{
 "cells": [
  {
   "cell_type": "code",
   "execution_count": 1,
   "metadata": {
    "collapsed": true
   },
   "outputs": [],
   "source": [
    "import random\n",
    "import pandas as pd\n",
    "import re\n",
    "import jieba\n",
    "import numpy\n",
    "from collections import Counter\n",
    "from operator import itemgetter"
   ]
  },
  {
   "cell_type": "code",
   "execution_count": 2,
   "metadata": {},
   "outputs": [],
   "source": [
    "salesman=\"\"\"\n",
    "salesman = 寒暄 报数 询问 业务相关 结尾 \n",
    "报数 = 我是 数字 号 ,\n",
    "数字 = 单个数字 | 数字 单个数字 \n",
    "单个数字 = 1 | 2 | 3 | 4 | 5 | 6 | 7 | 8 | 9 \n",
    "寒暄 = 称谓 打招呼 | 打招呼\n",
    "称谓 = 人称 ,\n",
    "人称 = 先生 | 女士 | 小朋友\n",
    "打招呼 = 你好 | 您好 \n",
    "询问 = 请问你要 | 您需要\n",
    "业务相关 = 买 具体业务 保险\n",
    "玩玩 = 耍一耍 | 玩一玩\n",
    "具体业务 = 人寿 | 残疾 | 旅行 | 车 | 财产\n",
    "结尾 = 吗？\n",
    "\"\"\"\n"
   ]
  },
  {
   "cell_type": "heading",
   "metadata": {},
   "level": 1,
   "source": [
    ""
   ]
  },
  {
   "cell_type": "code",
   "execution_count": 3,
   "metadata": {},
   "outputs": [],
   "source": [
    "def create_grammar(grammar_str,split='=',line_split='\\n'):\n",
    "    grammar={}  #字典\n",
    "    for line in grammar_str.split(line_split):\n",
    "        if not line.strip():continue\n",
    "        exp, stmt = line.split(split)\n",
    "        grammar[exp.strip()]=[s.split() for s in stmt.split('|')]\n",
    "    return grammar\n"
   ]
  },
  {
   "cell_type": "markdown",
   "metadata": {},
   "source": []
  },
  {
   "cell_type": "code",
   "execution_count": 4,
   "metadata": {},
   "outputs": [],
   "source": [
    "choice=random.choice\n",
    "def generate(gram,target):\n",
    "    if target not in gram: return target #terminal expression\n",
    "    expaned=[generate(gram,t)for t in choice(gram[target])]\n",
    "    return ''.join([e  if e!='/n' else '\\n' for e in expaned if e!='null'])\n",
    "example_grammar=create_grammar(salesman)"
   ]
  },
  {
   "cell_type": "code",
   "execution_count": 5,
   "metadata": {},
   "outputs": [
    {
     "data": {
      "text/plain": [
       "{'salesman': [['寒暄', '报数', '询问', '业务相关', '结尾']],\n '报数': [['我是', '数字', '号', ',']],\n '数字': [['单个数字'], ['数字', '单个数字']],\n '单个数字': [['1'], ['2'], ['3'], ['4'], ['5'], ['6'], ['7'], ['8'], ['9']],\n '寒暄': [['称谓', '打招呼'], ['打招呼']],\n '称谓': [['人称', ',']],\n '人称': [['先生'], ['女士'], ['小朋友']],\n '打招呼': [['你好'], ['您好']],\n '询问': [['请问你要'], ['您需要']],\n '业务相关': [['买', '具体业务', '保险']],\n '玩玩': [['耍一耍'], ['玩一玩']],\n '具体业务': [['人寿'], ['残疾'], ['旅行'], ['车'], ['财产']],\n '结尾': [['吗？']]}"
      ]
     },
     "execution_count": 5,
     "metadata": {},
     "output_type": "execute_result"
    }
   ],
   "source": [
    "example_grammar"
   ]
  },
  {
   "cell_type": "heading",
   "metadata": {},
   "level": 1,
   "source": []
  },
  {
   "cell_type": "code",
   "execution_count": 6,
   "metadata": {},
   "outputs": [],
   "source": [
    "filename='train.txt'\n",
    "def getfile(filename):\n",
    "    content=\"\"\n",
    "    with open(filename, 'r',encoding='UTF-8') as file_to_read:\n",
    "        while True:\n",
    "            lines = file_to_read.readline()\n",
    "            if not lines: break\n",
    "            s1, s2,s3,s4 = [i for i in lines.split('++$++')]\n",
    "            content = content+s3.strip()\n",
    "    return content\n",
    "def token(string):\n",
    "    return re.findall('\\w+',string)  #正则表达式\n",
    "def cut(string):\n",
    "    return list(jieba.cut(string))\n",
    "quesitons=''.join(token(getfile(filename)))"
   ]
  },
  {
   "cell_type": "code",
   "execution_count": 8,
   "metadata": {},
   "outputs": [],
   "source": [
    "quesitons"
   ]
  },
  {
   "cell_type": "code",
   "execution_count": 9,
   "metadata": {},
   "outputs": [
    {
     "name": "stderr",
     "output_type": "stream",
     "text": [
      "Building prefix dict from the default dictionary ...\n"
     ]
    },
    {
     "name": "stderr",
     "output_type": "stream",
     "text": [
      "Loading model from cache C:\\Users\\machang\\AppData\\Local\\Temp\\jieba.cache\n"
     ]
    },
    {
     "name": "stderr",
     "output_type": "stream",
     "text": [
      "Loading model cost 0.874 seconds.\n"
     ]
    },
    {
     "name": "stderr",
     "output_type": "stream",
     "text": [
      "Prefix dict has been built succesfully.\n"
     ]
    },
    {
     "name": "stdout",
     "output_type": "stream",
     "text": [
      "[('保险', 5005), ('的', 3220), ('人寿保险', 2962), ('什么', 2677), ('吗', 2479), ('是', 2347), ('我', 2056), ('是否', 1862), ('可以', 1704), ('健康', 1513)]\n"
     ]
    }
   ],
   "source": [
    "with_jieba_cut=Counter(jieba.cut(quesitons))\n",
    "print(with_jieba_cut.most_common()[:10]) #最高频率十个词语\n"
   ]
  },
  {
   "cell_type": "code",
   "execution_count": 10,
   "metadata": {},
   "outputs": [],
   "source": [
    "quesition_words=cut(quesitons)\n",
    "print(quesition_words)"
   ]
  },
  {
   "cell_type": "code",
   "execution_count": 11,
   "metadata": {},
   "outputs": [],
   "source": [
    "token2 = [''.join(quesition_words[i:i+2]) for i in range(len(quesition_words[:-2]))]\n",
    "wordcnt2gram=Counter(token2)"
   ]
  },
  {
   "cell_type": "code",
   "execution_count": 12,
   "metadata": {},
   "outputs": [],
   "source": [
    "def prob2gram(word1,word2):\n",
    "    if word1+word2 in wordcnt2gram:\n",
    "        return  wordcnt2gram[word1+word2]/len(wordcnt2gram)\n",
    "    else:\n",
    "        return 1/len(wordcnt2gram)\n"
   ]
  },
  {
   "cell_type": "code",
   "execution_count": 13,
   "metadata": {},
   "outputs": [
    {
     "name": "stdout",
     "output_type": "stream",
     "text": [
      "0.00021101498206372652\n0.0002954209748892171\n0.021523528170500107\n"
     ]
    }
   ],
   "source": [
    "print(prob2gram('我','吗'))\n",
    "print(prob2gram('有','保险'))\n",
    "print(prob2gram('保险','吗'))"
   ]
  },
  {
   "cell_type": "code",
   "execution_count": 14,
   "metadata": {},
   "outputs": [],
   "source": [
    "def get_probablity(sentence):\n",
    "    words = cut(sentence)\n",
    "    sentence_pro = 1\n",
    "    for i, word in enumerate(words[:-1]):\n",
    "        next_ = words[i + 1]\n",
    "        probability = prob2gram(word, next_)\n",
    "        sentence_pro *= probability\n",
    "    return sentence_pro"
   ]
  },
  {
   "cell_type": "code",
   "execution_count": 15,
   "metadata": {},
   "outputs": [
    {
     "name": "stdout",
     "output_type": "stream",
     "text": [
      "你好我是913号,请问你要买车保险吗？\nprob is  3.8578588404549156e-45\n您好我是5882号,请问你要买财产保险吗？\nprob is  3.0647191116159344e-50\n女士,你好我是21号,请问你要买车保险吗？\nprob is  6.871205013909961e-54\n您好我是13号,请问你要买旅行保险吗？\nprob is  6.596356813353563e-52\n你好我是1号,请问你要买旅行保险吗？\nprob is  6.596356813353563e-52\n先生,你好我是2856号,您需要买人寿保险吗？\nprob is  7.860658535912994e-52\n小朋友,您好我是34号,您需要买残疾保险吗？\nprob is  2.308806080597102e-53\n你好我是41号,您需要买旅行保险吗？\nprob is  1.790945230850562e-48\n您好我是8号,您需要买残疾保险吗？\nprob is  1.296286158089637e-44\n"
     ]
    }
   ],
   "source": [
    "generator=[]\n",
    "prob={}\n",
    "for i in range(0,9):\n",
    "    str=generate(example_grammar, 'salesman')\n",
    "    print(str)\n",
    "    print(\"prob is \",get_probablity(str))\n",
    "    prob[str]=get_probablity(str)\n"
   ]
  },
  {
   "cell_type": "code",
   "execution_count": 16,
   "metadata": {},
   "outputs": [
    {
     "name": "stdout",
     "output_type": "stream",
     "text": [
      "[('女士,你好我是21号,请问你要买车保险吗？', 6.871205013909961e-54), ('小朋友,您好我是34号,您需要买残疾保险吗？', 2.308806080597102e-53), ('您好我是13号,请问你要买旅行保险吗？', 6.596356813353563e-52), ('你好我是1号,请问你要买旅行保险吗？', 6.596356813353563e-52), ('先生,你好我是2856号,您需要买人寿保险吗？', 7.860658535912994e-52), ('您好我是5882号,请问你要买财产保险吗？', 3.0647191116159344e-50), ('你好我是41号,您需要买旅行保险吗？', 1.790945230850562e-48), ('你好我是913号,请问你要买车保险吗？', 3.8578588404549156e-45), ('您好我是8号,您需要买残疾保险吗？', 1.296286158089637e-44)]\n"
     ]
    }
   ],
   "source": [
    "c = sorted(prob.items(),key=itemgetter(1))\n",
    "print(c)"
   ]
  },
  {
   "cell_type": "code",
   "execution_count": null,
   "metadata": {},
   "outputs": [],
   "source": []
  }
 ],
 "metadata": {
  "kernelspec": {
   "display_name": "Python 2",
   "language": "python",
   "name": "python2"
  },
  "language_info": {
   "codemirror_mode": {
    "name": "ipython",
    "version": 2
   },
   "file_extension": ".py",
   "mimetype": "text/x-python",
   "name": "python",
   "nbconvert_exporter": "python",
   "pygments_lexer": "ipython2",
   "version": "2.7.6"
  }
 },
 "nbformat": 4,
 "nbformat_minor": 0
}
