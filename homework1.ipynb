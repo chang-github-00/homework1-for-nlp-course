{
 "cells": [
  {
   "cell_type": "code",
   "execution_count": 1,
   "metadata": {
    "collapsed": true
   },
   "outputs": [],
   "source": [
    "import random"
   ]
  },
  {
   "cell_type": "code",
   "execution_count": 2,
   "metadata": {},
   "outputs": [],
   "source": [
    "salted_fish=\"\"\"\n",
    "salted_fish = 寒暄 身份 喜好 结尾\n",
    "寒暄 = 打招呼 我叫 名字 ，\n",
    "身份 = 我是练习 数字 年的 职业\n",
    "数字 = 单个数字 | 数字 单个数字\n",
    "打招呼 = 大家好 | 您们好\n",
    "单个数字 = 1 | 2 | 3 | 4 | 5 \n",
    "名字 = 蔡徐坤 | 尖叫鸡 | 小黄鸭 \n",
    "职业 = 练习生 | 咸鱼 | 挂科选手\n",
    "喜好 = ，我喜欢 兴趣\n",
    "兴趣 = 单个兴趣 | 兴趣 、 单个兴趣\n",
    "单个兴趣 = 唱跳rap | 躺着 | 挂科\n",
    "结尾 = ,music!\n",
    "\"\"\""
   ]
  },
  {
   "cell_type": "code",
   "execution_count": 3,
   "metadata": {},
   "outputs": [],
   "source": [
    "def create_grammar(grammar_str,split='=',line_split='\\n'):\n",
    "    grammar={}  #字典\n",
    "    for line in grammar_str.split(line_split):\n",
    "        if not line.strip():continue\n",
    "        exp, stmt = line.split(split)\n",
    "        grammar[exp.strip()]=[s.split() for s in stmt.split('|')]\n",
    "    return grammar"
   ]
  },
  {
   "cell_type": "code",
   "execution_count": 4,
   "metadata": {},
   "outputs": [],
   "source": [
    "choice=random.choice"
   ]
  },
  {
   "cell_type": "code",
   "execution_count": 7,
   "metadata": {},
   "outputs": [
    {
     "name": "stdout",
     "output_type": "stream",
     "text": [
      "大家好我叫小黄鸭，我是练习5年的挂科选手，我喜欢挂科,music!\nFull Mode: 您们好/ 我/ 叫/ 尖叫/ 鸡/ ，/ 我/ 是/ 练习/ 1/ 年/ 的/ 练习生/ ，/ 我/ 喜欢/ 躺/ 着/ ,/ music/ !\n"
     ]
    }
   ],
   "source": [
    "import jieba\n",
    "def generate(gram,target):\n",
    "    if target not in gram: return target #terminal expression\n",
    "    expaned=[generate(gram,t)for t in choice(gram[target])]\n",
    "    return ''.join([e  if e!='/n' else '\\n' for e in expaned if e!='null'])\n",
    "example_grammar=create_grammar(salted_fish)\n",
    "print(generate(example_grammar,'salted_fish'))\n",
    "seg_list = jieba.cut(generate(example_grammar,'salted_fish'), cut_all=False)\n",
    "print(\"Full Mode: \" + \"/ \".join(seg_list))\n"
   ]
  },
  {
   "cell_type": "code",
   "execution_count": 8,
   "metadata": {},
   "outputs": [],
   "source": []
  },
  {
   "cell_type": "code",
   "execution_count": 8,
   "metadata": {},
   "outputs": [],
   "source": []
  },
  {
   "cell_type": "code",
   "execution_count": null,
   "metadata": {},
   "outputs": [],
   "source": []
  }
 ],
 "metadata": {
  "kernelspec": {
   "display_name": "Python 2",
   "language": "python",
   "name": "python2"
  },
  "language_info": {
   "codemirror_mode": {
    "name": "ipython",
    "version": 2
   },
   "file_extension": ".py",
   "mimetype": "text/x-python",
   "name": "python",
   "nbconvert_exporter": "python",
   "pygments_lexer": "ipython2",
   "version": "2.7.6"
  }
 },
 "nbformat": 4,
 "nbformat_minor": 0
}
